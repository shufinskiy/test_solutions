{
 "cells": [
  {
   "cell_type": "code",
   "execution_count": 1,
   "id": "c3dda93b",
   "metadata": {},
   "outputs": [],
   "source": [
    "import numpy as np\n",
    "import pandas as pd\n",
    "import matplotlib.pyplot as plt\n",
    "import seaborn as sns\n",
    "\n",
    "RANDOM_STATE = 42\n",
    "\n",
    "pd.set_option(\"display.max_columns\", None)\n",
    "%matplotlib inline"
   ]
  },
  {
   "cell_type": "markdown",
   "id": "8b048638",
   "metadata": {},
   "source": [
    "### ЧАСТЬ 1 EDA и предпроцессинг данных"
   ]
  },
  {
   "cell_type": "code",
   "execution_count": 2,
   "id": "438fcf29",
   "metadata": {},
   "outputs": [],
   "source": [
    "df = pd.read_csv(\"data_regression_for_task.csv\")\n",
    "df.columns = [x.lower() for x in df.columns]"
   ]
  },
  {
   "cell_type": "code",
   "execution_count": 3,
   "id": "40d9307c",
   "metadata": {},
   "outputs": [
    {
     "name": "stdout",
     "output_type": "stream",
     "text": [
      "<class 'pandas.core.frame.DataFrame'>\n",
      "RangeIndex: 128355 entries, 0 to 128354\n",
      "Data columns (total 8 columns):\n",
      " #   Column         Non-Null Count   Dtype  \n",
      "---  ------         --------------   -----  \n",
      " 0   year           128355 non-null  int64  \n",
      " 1   month          128355 non-null  int64  \n",
      " 2   contragent     128331 non-null  object \n",
      " 3   article_code   128355 non-null  object \n",
      " 4   article_name   128355 non-null  object \n",
      " 5   article_group  128354 non-null  object \n",
      " 6   sales          128355 non-null  float64\n",
      " 7   store_sales    128355 non-null  float64\n",
      "dtypes: float64(2), int64(2), object(4)\n",
      "memory usage: 7.8+ MB\n"
     ]
    }
   ],
   "source": [
    "df.info()"
   ]
  },
  {
   "cell_type": "code",
   "execution_count": 4,
   "id": "c543aada",
   "metadata": {},
   "outputs": [
    {
     "data": {
      "text/html": [
       "<div>\n",
       "<style scoped>\n",
       "    .dataframe tbody tr th:only-of-type {\n",
       "        vertical-align: middle;\n",
       "    }\n",
       "\n",
       "    .dataframe tbody tr th {\n",
       "        vertical-align: top;\n",
       "    }\n",
       "\n",
       "    .dataframe thead th {\n",
       "        text-align: right;\n",
       "    }\n",
       "</style>\n",
       "<table border=\"1\" class=\"dataframe\">\n",
       "  <thead>\n",
       "    <tr style=\"text-align: right;\">\n",
       "      <th></th>\n",
       "      <th>year</th>\n",
       "      <th>month</th>\n",
       "      <th>contragent</th>\n",
       "      <th>article_code</th>\n",
       "      <th>article_name</th>\n",
       "      <th>article_group</th>\n",
       "      <th>sales</th>\n",
       "      <th>store_sales</th>\n",
       "    </tr>\n",
       "  </thead>\n",
       "  <tbody>\n",
       "    <tr>\n",
       "      <th>0</th>\n",
       "      <td>2017</td>\n",
       "      <td>4</td>\n",
       "      <td>ROYAL WINE CORP</td>\n",
       "      <td>100200</td>\n",
       "      <td>GAMLA CAB - 750ML</td>\n",
       "      <td>WINE</td>\n",
       "      <td>0.0</td>\n",
       "      <td>0.0</td>\n",
       "    </tr>\n",
       "    <tr>\n",
       "      <th>1</th>\n",
       "      <td>2017</td>\n",
       "      <td>4</td>\n",
       "      <td>SANTA MARGHERITA USA INC</td>\n",
       "      <td>100749</td>\n",
       "      <td>SANTA MARGHERITA P/GRIG ALTO - 375ML</td>\n",
       "      <td>WINE</td>\n",
       "      <td>0.0</td>\n",
       "      <td>0.0</td>\n",
       "    </tr>\n",
       "    <tr>\n",
       "      <th>2</th>\n",
       "      <td>2017</td>\n",
       "      <td>4</td>\n",
       "      <td>JIM BEAM BRANDS CO</td>\n",
       "      <td>10103</td>\n",
       "      <td>KNOB CREEK BOURBON 9YR - 100P - 375ML</td>\n",
       "      <td>LIQUOR</td>\n",
       "      <td>0.0</td>\n",
       "      <td>0.0</td>\n",
       "    </tr>\n",
       "    <tr>\n",
       "      <th>3</th>\n",
       "      <td>2017</td>\n",
       "      <td>4</td>\n",
       "      <td>HEAVEN HILL DISTILLERIES INC</td>\n",
       "      <td>10120</td>\n",
       "      <td>J W DANT BOURBON 100P - 1.75L</td>\n",
       "      <td>LIQUOR</td>\n",
       "      <td>0.0</td>\n",
       "      <td>0.0</td>\n",
       "    </tr>\n",
       "    <tr>\n",
       "      <th>4</th>\n",
       "      <td>2017</td>\n",
       "      <td>4</td>\n",
       "      <td>ROYAL WINE CORP</td>\n",
       "      <td>101664</td>\n",
       "      <td>RAMON CORDOVA RIOJA - 750ML</td>\n",
       "      <td>WINE</td>\n",
       "      <td>0.0</td>\n",
       "      <td>0.0</td>\n",
       "    </tr>\n",
       "  </tbody>\n",
       "</table>\n",
       "</div>"
      ],
      "text/plain": [
       "   year  month                    contragent article_code  \\\n",
       "0  2017      4               ROYAL WINE CORP       100200   \n",
       "1  2017      4      SANTA MARGHERITA USA INC       100749   \n",
       "2  2017      4            JIM BEAM BRANDS CO        10103   \n",
       "3  2017      4  HEAVEN HILL DISTILLERIES INC        10120   \n",
       "4  2017      4               ROYAL WINE CORP       101664   \n",
       "\n",
       "                            article_name article_group  sales  store_sales  \n",
       "0                      GAMLA CAB - 750ML          WINE    0.0          0.0  \n",
       "1   SANTA MARGHERITA P/GRIG ALTO - 375ML          WINE    0.0          0.0  \n",
       "2  KNOB CREEK BOURBON 9YR - 100P - 375ML        LIQUOR    0.0          0.0  \n",
       "3          J W DANT BOURBON 100P - 1.75L        LIQUOR    0.0          0.0  \n",
       "4            RAMON CORDOVA RIOJA - 750ML          WINE    0.0          0.0  "
      ]
     },
     "execution_count": 4,
     "metadata": {},
     "output_type": "execute_result"
    }
   ],
   "source": [
    "df.head()"
   ]
  },
  {
   "cell_type": "code",
   "execution_count": 5,
   "id": "52ca5bb1",
   "metadata": {},
   "outputs": [
    {
     "data": {
      "text/plain": [
       "year                 2\n",
       "month               10\n",
       "contragent         333\n",
       "article_code     23556\n",
       "article_name     23624\n",
       "article_group        8\n",
       "sales             7019\n",
       "store_sales       2518\n",
       "dtype: int64"
      ]
     },
     "execution_count": 5,
     "metadata": {},
     "output_type": "execute_result"
    }
   ],
   "source": [
    "df.nunique()"
   ]
  },
  {
   "cell_type": "code",
   "execution_count": 6,
   "id": "8b1fefe5",
   "metadata": {},
   "outputs": [
    {
     "name": "stdout",
     "output_type": "stream",
     "text": [
      "0.0         49176\n",
      "80.0         4923\n",
      "160.0        2785\n",
      "170.0        2754\n",
      "240.0        1743\n",
      "            ...  \n",
      "175300.0        1\n",
      "43550.0         1\n",
      "64510.0         1\n",
      "56770.0         1\n",
      "420720.0        1\n",
      "Name: sales, Length: 7019, dtype: int64\n",
      "\n",
      " 0.00       49637\n",
      " 1.00       24551\n",
      " 2.00       11523\n",
      " 3.00        6680\n",
      " 4.00        4594\n",
      "            ...  \n",
      " 4165.00        1\n",
      " 619.00         1\n",
      " 702.00         1\n",
      " 2476.25        1\n",
      "-81.00          1\n",
      "Name: store_sales, Length: 2518, dtype: int64\n"
     ]
    }
   ],
   "source": [
    "print(df[\"sales\"].value_counts())\n",
    "print()\n",
    "print(df[\"store_sales\"].value_counts())"
   ]
  },
  {
   "cell_type": "code",
   "execution_count": 7,
   "id": "74fa5b24",
   "metadata": {},
   "outputs": [
    {
     "data": {
      "image/png": "[encoded data removed]",
      "text/plain": [
       "<Figure size 432x288 with 1 Axes>"
      ]
     },
     "metadata": {
      "needs_background": "light"
     },
     "output_type": "display_data"
    }
   ],
   "source": [
    "sns.scatterplot(data=df, x=\"sales\", y=\"store_sales\");"
   ]
  },
  {
   "cell_type": "code",
   "execution_count": 8,
   "id": "2f7914d9",
   "metadata": {},
   "outputs": [],
   "source": [
    "df[\"ym\"] = df['year']*100 + df['month']"
   ]
  },
  {
   "cell_type": "code",
   "execution_count": 9,
   "id": "43e332ed",
   "metadata": {},
   "outputs": [
    {
     "data": {
      "text/html": [
       "<div>\n",
       "<style scoped>\n",
       "    .dataframe tbody tr th:only-of-type {\n",
       "        vertical-align: middle;\n",
       "    }\n",
       "\n",
       "    .dataframe tbody tr th {\n",
       "        vertical-align: top;\n",
       "    }\n",
       "\n",
       "    .dataframe thead th {\n",
       "        text-align: right;\n",
       "    }\n",
       "</style>\n",
       "<table border=\"1\" class=\"dataframe\">\n",
       "  <thead>\n",
       "    <tr style=\"text-align: right;\">\n",
       "      <th></th>\n",
       "      <th>year</th>\n",
       "      <th>month</th>\n",
       "      <th>contragent</th>\n",
       "      <th>article_code</th>\n",
       "      <th>article_name</th>\n",
       "      <th>article_group</th>\n",
       "      <th>sales</th>\n",
       "      <th>store_sales</th>\n",
       "      <th>ym</th>\n",
       "    </tr>\n",
       "  </thead>\n",
       "  <tbody>\n",
       "    <tr>\n",
       "      <th>0</th>\n",
       "      <td>2017</td>\n",
       "      <td>4</td>\n",
       "      <td>ROYAL WINE CORP</td>\n",
       "      <td>100200</td>\n",
       "      <td>GAMLA CAB - 750ML</td>\n",
       "      <td>WINE</td>\n",
       "      <td>0.0</td>\n",
       "      <td>0.0</td>\n",
       "      <td>201704</td>\n",
       "    </tr>\n",
       "    <tr>\n",
       "      <th>1</th>\n",
       "      <td>2017</td>\n",
       "      <td>4</td>\n",
       "      <td>SANTA MARGHERITA USA INC</td>\n",
       "      <td>100749</td>\n",
       "      <td>SANTA MARGHERITA P/GRIG ALTO - 375ML</td>\n",
       "      <td>WINE</td>\n",
       "      <td>0.0</td>\n",
       "      <td>0.0</td>\n",
       "      <td>201704</td>\n",
       "    </tr>\n",
       "    <tr>\n",
       "      <th>2</th>\n",
       "      <td>2017</td>\n",
       "      <td>4</td>\n",
       "      <td>JIM BEAM BRANDS CO</td>\n",
       "      <td>10103</td>\n",
       "      <td>KNOB CREEK BOURBON 9YR - 100P - 375ML</td>\n",
       "      <td>LIQUOR</td>\n",
       "      <td>0.0</td>\n",
       "      <td>0.0</td>\n",
       "      <td>201704</td>\n",
       "    </tr>\n",
       "    <tr>\n",
       "      <th>3</th>\n",
       "      <td>2017</td>\n",
       "      <td>4</td>\n",
       "      <td>HEAVEN HILL DISTILLERIES INC</td>\n",
       "      <td>10120</td>\n",
       "      <td>J W DANT BOURBON 100P - 1.75L</td>\n",
       "      <td>LIQUOR</td>\n",
       "      <td>0.0</td>\n",
       "      <td>0.0</td>\n",
       "      <td>201704</td>\n",
       "    </tr>\n",
       "    <tr>\n",
       "      <th>4</th>\n",
       "      <td>2017</td>\n",
       "      <td>4</td>\n",
       "      <td>ROYAL WINE CORP</td>\n",
       "      <td>101664</td>\n",
       "      <td>RAMON CORDOVA RIOJA - 750ML</td>\n",
       "      <td>WINE</td>\n",
       "      <td>0.0</td>\n",
       "      <td>0.0</td>\n",
       "      <td>201704</td>\n",
       "    </tr>\n",
       "  </tbody>\n",
       "</table>\n",
       "</div>"
      ],
      "text/plain": [
       "   year  month                    contragent article_code  \\\n",
       "0  2017      4               ROYAL WINE CORP       100200   \n",
       "1  2017      4      SANTA MARGHERITA USA INC       100749   \n",
       "2  2017      4            JIM BEAM BRANDS CO        10103   \n",
       "3  2017      4  HEAVEN HILL DISTILLERIES INC        10120   \n",
       "4  2017      4               ROYAL WINE CORP       101664   \n",
       "\n",
       "                            article_name article_group  sales  store_sales  \\\n",
       "0                      GAMLA CAB - 750ML          WINE    0.0          0.0   \n",
       "1   SANTA MARGHERITA P/GRIG ALTO - 375ML          WINE    0.0          0.0   \n",
       "2  KNOB CREEK BOURBON 9YR - 100P - 375ML        LIQUOR    0.0          0.0   \n",
       "3          J W DANT BOURBON 100P - 1.75L        LIQUOR    0.0          0.0   \n",
       "4            RAMON CORDOVA RIOJA - 750ML          WINE    0.0          0.0   \n",
       "\n",
       "       ym  \n",
       "0  201704  \n",
       "1  201704  \n",
       "2  201704  \n",
       "3  201704  \n",
       "4  201704  "
      ]
     },
     "execution_count": 9,
     "metadata": {},
     "output_type": "execute_result"
    }
   ],
   "source": [
    "df.head()"
   ]
  },
  {
   "cell_type": "code",
   "execution_count": 10,
   "id": "aae2d632",
   "metadata": {},
   "outputs": [
    {
     "data": {
      "image/png": "[encoded data removed]",
      "text/plain": [
       "<Figure size 504x360 with 1 Axes>"
      ]
     },
     "metadata": {
      "needs_background": "light"
     },
     "output_type": "display_data"
    }
   ],
   "source": [
    "plt.figure(figsize=(7, 5))\n",
    "sns.boxplot(data=df, x=\"ym\", y=\"sales\");"
   ]
  },
  {
   "cell_type": "code",
   "execution_count": 11,
   "id": "ee2ec218",
   "metadata": {},
   "outputs": [
    {
     "data": {
      "image/png": "[encoded data removed]",
      "text/plain": [
       "<Figure size 576x360 with 1 Axes>"
      ]
     },
     "metadata": {
      "needs_background": "light"
     },
     "output_type": "display_data"
    }
   ],
   "source": [
    "plt.figure(figsize=(8, 5))\n",
    "sns.boxplot(data=df, x=\"article_group\", y=\"sales\");"
   ]
  },
  {
   "cell_type": "code",
   "execution_count": 12,
   "id": "1e309d78",
   "metadata": {},
   "outputs": [
    {
     "data": {
      "text/plain": [
       "year                1\n",
       "month               1\n",
       "contragent        210\n",
       "article_code     5195\n",
       "article_name     5192\n",
       "article_group       6\n",
       "sales               1\n",
       "store_sales         1\n",
       "ym                  1\n",
       "dtype: int64"
      ]
     },
     "execution_count": 12,
     "metadata": {},
     "output_type": "execute_result"
    }
   ],
   "source": [
    "df.loc[df[\"ym\"] == 201704].nunique()"
   ]
  },
  {
   "cell_type": "code",
   "execution_count": 13,
   "id": "47d83a6e",
   "metadata": {},
   "outputs": [
    {
     "data": {
      "text/plain": [
       "year                2\n",
       "month               8\n",
       "contragent         54\n",
       "article_code     1373\n",
       "article_name     1384\n",
       "article_group       2\n",
       "sales               1\n",
       "store_sales       176\n",
       "ym                  8\n",
       "dtype: int64"
      ]
     },
     "execution_count": 13,
     "metadata": {},
     "output_type": "execute_result"
    }
   ],
   "source": [
    "df.loc[df[\"article_group\"].isin([\"KEGS\", \"DUNNAGE\"])].nunique()"
   ]
  },
  {
   "cell_type": "markdown",
   "id": "d860c3dc",
   "metadata": {},
   "source": [
    "Чистка данных:\n",
    "\n",
    "    - Удалить группы \"KEGS\", \"DUNNAGE\"\n",
    "    - Удалить апрель 2017\n",
    "    - Удалить товары с нецифровым артикулом"
   ]
  },
  {
   "cell_type": "code",
   "execution_count": 14,
   "id": "23d3a167",
   "metadata": {},
   "outputs": [],
   "source": [
    "new_article_code = []\n",
    "\n",
    "for code in df[\"article_code\"]:\n",
    "    try:\n",
    "        ac = int(code)\n",
    "    except:\n",
    "        ac = 0\n",
    "    new_article_code.append(ac)"
   ]
  },
  {
   "cell_type": "code",
   "execution_count": 15,
   "id": "d7072ce2",
   "metadata": {},
   "outputs": [],
   "source": [
    "new_df = df.drop(index=pd.Series(new_article_code).loc[pd.Series(new_article_code) == 0].index)"
   ]
  },
  {
   "cell_type": "code",
   "execution_count": 16,
   "id": "b4cbc4ca",
   "metadata": {},
   "outputs": [],
   "source": [
    "new_df = new_df.loc[(df[\"ym\"] != 201704) & ~df[\"article_group\"].isin([\"KEGS\", \"DUNNAGE\"])].reset_index(drop=True)"
   ]
  },
  {
   "cell_type": "markdown",
   "id": "cbb89be9",
   "metadata": {},
   "source": [
    "Создание признака объём. Из названия артикула пытаемся достать его объём. Я решал такую задачу в Х5 с помощью больших регулярных выражений для детекции объёма и меры (ML, L и т.д.), а затем перевода всё в одну меру (кг или литры). Это было затратно по времени, поэтому здесь я сделал очень упрощённый вариант: топ-9 и всё остальное. "
   ]
  },
  {
   "cell_type": "code",
   "execution_count": 17,
   "id": "6e34526f",
   "metadata": {},
   "outputs": [],
   "source": [
    "volume = []\n",
    "\n",
    "for name in new_df[\"article_name\"]:\n",
    "    try:\n",
    "        t = name.split(\"-\")[-1].lstrip()\n",
    "        volume.append(t)\n",
    "    except:\n",
    "        volume.append(None)"
   ]
  },
  {
   "cell_type": "code",
   "execution_count": 18,
   "id": "98d02a42",
   "metadata": {},
   "outputs": [],
   "source": [
    "cat = list(pd.Series(volume).value_counts()[:9].index)"
   ]
  },
  {
   "cell_type": "code",
   "execution_count": 19,
   "id": "10ff2f82",
   "metadata": {},
   "outputs": [],
   "source": [
    "new_cat = []\n",
    "\n",
    "for i in volume:\n",
    "    if i in cat:\n",
    "        new_cat.append(i)\n",
    "    else:\n",
    "        new_cat.append(\"other\")"
   ]
  },
  {
   "cell_type": "code",
   "execution_count": 20,
   "id": "1f832636",
   "metadata": {},
   "outputs": [],
   "source": [
    "new_df[\"volume\"] = new_cat"
   ]
  },
  {
   "cell_type": "code",
   "execution_count": 21,
   "id": "e4e02110",
   "metadata": {},
   "outputs": [],
   "source": [
    "contragent = new_df.groupby(\"contragent\", as_index=False)[\"sales\"].agg({\"mean_sales\": \"mean\"})\\\n",
    ".sort_values(by=\"mean_sales\")"
   ]
  },
  {
   "cell_type": "code",
   "execution_count": 22,
   "id": "61ee0ad7",
   "metadata": {},
   "outputs": [],
   "source": [
    "dict_contragent = {key:value for (key, value) in zip(contragent.index, contragent.contragent)}"
   ]
  },
  {
   "cell_type": "code",
   "execution_count": 23,
   "id": "55461ab8",
   "metadata": {},
   "outputs": [],
   "source": [
    "from sklearn.preprocessing import OrdinalEncoder"
   ]
  },
  {
   "cell_type": "code",
   "execution_count": 24,
   "id": "99cd42d7",
   "metadata": {},
   "outputs": [],
   "source": [
    "ord_enc = OrdinalEncoder()\n",
    "ord_enc.fit(contragent)\n",
    "ord_contragent = ord_enc.transform(contragent)"
   ]
  },
  {
   "cell_type": "code",
   "execution_count": 25,
   "id": "dfef0bd9",
   "metadata": {},
   "outputs": [],
   "source": [
    "new_dict_contragent = dict()\n",
    "for i in range(ord_contragent.shape[0]):\n",
    "    new_dict_contragent[dict_contragent[ord_contragent[i, 0]]] = ord_contragent[i, 1]"
   ]
  },
  {
   "cell_type": "code",
   "execution_count": 26,
   "id": "31fe4ba6",
   "metadata": {},
   "outputs": [],
   "source": [
    "new_df[\"ord_contragent\"] = [new_dict_contragent[x] for x in new_df[\"contragent\"]]"
   ]
  },
  {
   "cell_type": "code",
   "execution_count": 27,
   "id": "db43e0e9",
   "metadata": {},
   "outputs": [],
   "source": [
    "lm_df = new_df.loc[:, [\"ym\", \"ord_contragent\", \"article_code\", \"article_group\", \"volume\", \"sales\", \"store_sales\"]]\n",
    "lm_df[\"article_code\"] = lm_df[\"article_code\"].astype(int)"
   ]
  },
  {
   "cell_type": "code",
   "execution_count": 28,
   "id": "5be28480",
   "metadata": {},
   "outputs": [],
   "source": [
    "from sklearn.preprocessing import OneHotEncoder, StandardScaler\n",
    "from sklearn.compose import ColumnTransformer"
   ]
  },
  {
   "cell_type": "code",
   "execution_count": 29,
   "id": "d592c8aa",
   "metadata": {},
   "outputs": [],
   "source": [
    "col_transfrom = ColumnTransformer(\n",
    "[\n",
    "    ('one', OneHotEncoder(drop='first'), [\"article_group\", \"volume\"]),\n",
    "    ('scale', StandardScaler(), [\"store_sales\"])\n",
    "])"
   ]
  },
  {
   "cell_type": "code",
   "execution_count": 30,
   "id": "fdcf4705",
   "metadata": {},
   "outputs": [],
   "source": [
    "lm_df = pd.concat([pd.DataFrame(col_transfrom.fit_transform(lm_df).toarray(), \n",
    "             columns=col_transfrom.get_feature_names_out()),\n",
    "                   lm_df.loc[:, [\"ym\", \"ord_contragent\", \"article_code\", \"sales\"]]], axis=1)"
   ]
  },
  {
   "cell_type": "markdown",
   "id": "12588495",
   "metadata": {},
   "source": [
    "### Часть 2 Создание модели\n",
    "\n",
    "    Порядок действий такой: строим Lasso регрессию, которая зануляет неинформативные переменные,\n",
    "    затем очищенный датасет подаём в xgboost"
   ]
  },
  {
   "cell_type": "code",
   "execution_count": 31,
   "id": "fa2b3d79",
   "metadata": {},
   "outputs": [],
   "source": [
    "x_train = lm_df.loc[lm_df[\"ym\"] < 201801].drop(columns=\"sales\").reset_index(drop=True)\n",
    "y_train = lm_df.loc[lm_df[\"ym\"] < 201801, \"sales\"].reset_index(drop=True)\n",
    "\n",
    "x_valid = lm_df.loc[lm_df[\"ym\"] == 201801].drop(columns=\"sales\").reset_index(drop=True)\n",
    "y_valid = lm_df.loc[lm_df[\"ym\"] == 201801, \"sales\"].reset_index(drop=True)\n",
    "\n",
    "x_test = lm_df.loc[lm_df[\"ym\"] > 201801].drop(columns=\"sales\").reset_index(drop=True)\n",
    "y_test = lm_df.loc[lm_df[\"ym\"] > 201801, \"sales\"].reset_index(drop=True)"
   ]
  },
  {
   "cell_type": "code",
   "execution_count": 32,
   "id": "0e8c15b1",
   "metadata": {},
   "outputs": [],
   "source": [
    "from sklearn.linear_model import Lasso"
   ]
  },
  {
   "cell_type": "code",
   "execution_count": 33,
   "id": "f4ce7e38",
   "metadata": {},
   "outputs": [
    {
     "data": {
      "text/plain": [
       "array([ 5.06611484e+03,  6.04951049e+03,  0.00000000e+00,  1.13584335e+04,\n",
       "        5.78282515e+03,  0.00000000e+00,  2.34874931e+04,  9.06658599e+03,\n",
       "        3.68529934e+02, -3.32529340e+03, -4.43831090e+03, -8.06602550e+03,\n",
       "        5.01336089e+03, -6.50115150e+03, -6.39351530e+03,  1.34127429e+04,\n",
       "        2.56128825e+02,  6.08264261e+01, -9.46120413e-03])"
      ]
     },
     "execution_count": 33,
     "metadata": {},
     "output_type": "execute_result"
    }
   ],
   "source": [
    "lasso = Lasso()\n",
    "lasso.fit(x_train, y_train)\n",
    "y_pred_valid = lasso.predict(x_valid)\n",
    "lasso.coef_"
   ]
  },
  {
   "cell_type": "code",
   "execution_count": 34,
   "id": "9d444c19",
   "metadata": {},
   "outputs": [],
   "source": [
    "def metric(y_true, y_pred):\n",
    "    return np.sum(np.abs(y_true - y_pred)) / np.sum(y_pred) * 100"
   ]
  },
  {
   "cell_type": "code",
   "execution_count": 35,
   "id": "25023834",
   "metadata": {},
   "outputs": [],
   "source": [
    "x_train = x_train.iloc[:, [0, 1, 3, 4, 6, 7, 8, 9, 10, 11, 12, 13, 14, 15, 16, 17, 18]]\n",
    "x_valid = x_valid.iloc[:, [0, 1, 3, 4, 6, 7, 8, 9, 10, 11, 12, 13, 14, 15, 16, 17, 18]]\n",
    "x_test = x_test.iloc[:, [0, 1, 3, 4, 6, 7, 8, 9, 10, 11, 12, 13, 14, 15, 16, 17, 18]]"
   ]
  },
  {
   "cell_type": "code",
   "execution_count": 36,
   "id": "83f2d03f",
   "metadata": {},
   "outputs": [],
   "source": [
    "import xgboost as xgb"
   ]
  },
  {
   "cell_type": "code",
   "execution_count": 37,
   "id": "c652ab69",
   "metadata": {},
   "outputs": [],
   "source": [
    "xgb_train = xgb.DMatrix(x_train, label=y_train)\n",
    "xgb_valid = xgb.DMatrix(x_valid, label=y_valid)\n",
    "xgb_test = xgb.DMatrix(x_test, label=y_test)"
   ]
  },
  {
   "cell_type": "code",
   "execution_count": 38,
   "id": "d065ac5e",
   "metadata": {},
   "outputs": [],
   "source": [
    "param = {'booster': 'gblinear', 'nthread': 4, 'objective': 'reg:squarederror',\n",
    "        'eval_metric': 'rmse'}"
   ]
  },
  {
   "cell_type": "code",
   "execution_count": 39,
   "id": "28c0e177",
   "metadata": {},
   "outputs": [],
   "source": [
    "evallist = [(xgb_valid, 'eval'), (xgb_train, 'train')]"
   ]
  },
  {
   "cell_type": "code",
   "execution_count": 40,
   "id": "ee0701ba",
   "metadata": {},
   "outputs": [],
   "source": [
    "model_xgb = xgb.train(param, xgb_train, num_boost_round=1000, evals=evallist,\n",
    "                     early_stopping_rounds=15, verbose_eval=False)"
   ]
  },
  {
   "cell_type": "code",
   "execution_count": 42,
   "id": "2543a0f3",
   "metadata": {},
   "outputs": [],
   "source": [
    "score = metric(model_xgb.predict(xgb_test), y_test)"
   ]
  },
  {
   "cell_type": "code",
   "execution_count": 43,
   "id": "9527ada4",
   "metadata": {},
   "outputs": [
    {
     "name": "stdout",
     "output_type": "stream",
     "text": [
      "Значение метрики: 130.7112387445943\n"
     ]
    }
   ],
   "source": [
    "print(f\"Значение метрики: {score}\")"
   ]
  }
 ],
 "metadata": {
  "kernelspec": {
   "display_name": "Python 3",
   "language": "python",
   "name": "python3"
  },
  "language_info": {
   "codemirror_mode": {
    "name": "ipython",
    "version": 3
   },
   "file_extension": ".py",
   "mimetype": "text/x-python",
   "name": "python",
   "nbconvert_exporter": "python",
   "pygments_lexer": "ipython3",
   "version": "3.8.13"
  }
 },
 "nbformat": 4,
 "nbformat_minor": 5
}
